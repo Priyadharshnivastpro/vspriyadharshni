{
  "nbformat": 4,
  "nbformat_minor": 0,
  "metadata": {
    "colab": {
      "provenance": [],
      "authorship_tag": "ABX9TyNkC/H6NzyEMMLGOQ6lxn4F",
      "include_colab_link": true
    },
    "kernelspec": {
      "name": "python3",
      "display_name": "Python 3"
    },
    "language_info": {
      "name": "python"
    }
  },
  "cells": [
    {
      "cell_type": "markdown",
      "metadata": {
        "id": "view-in-github",
        "colab_type": "text"
      },
      "source": [
        "<a href=\"https://colab.research.google.com/github/Priyadharshnivastpro/vspriyadharshni/blob/main/Copy_of_Exp4.ipynb\" target=\"_parent\"><img src=\"https://colab.research.google.com/assets/colab-badge.svg\" alt=\"Open In Colab\"/></a>"
      ]
    },
    {
      "cell_type": "code",
      "execution_count": null,
      "metadata": {
        "colab": {
          "base_uri": "https://localhost:8080/"
        },
        "id": "fSegg48BrdA4",
        "outputId": "1449e7b9-ea16-4ac6-a4eb-bb2300830809"
      },
      "outputs": [
        {
          "output_type": "stream",
          "name": "stderr",
          "text": [
            "[nltk_data] Downloading package movie_reviews to /root/nltk_data...\n",
            "[nltk_data]   Unzipping corpora/movie_reviews.zip.\n"
          ]
        },
        {
          "output_type": "stream",
          "name": "stdout",
          "text": [
            "Accuracy:69.00%\n",
            "Prediction for 'Like it':pos\n",
            "Prediction for 'I didn't like the plot.':neg\n"
          ]
        }
      ],
      "source": [
        "import nltk\n",
        "import random\n",
        "nltk.download('movie_reviews')\n",
        "from nltk.corpus import movie_reviews\n",
        "from nltk.classify import NaiveBayesClassifier\n",
        "from nltk.classify.util import accuracy\n",
        "\n",
        "documents=[(list(movie_reviews.words(fileid)),category)\n",
        "      for category in movie_reviews.categories()\n",
        "      for fileid in movie_reviews.fileids(category)]\n",
        "random.shuffle(documents)\n",
        "\n",
        "def document_features(document):\n",
        "  feature_dict={}\n",
        "  for word in document:\n",
        "    feature_dict[word]=True\n",
        "  return feature_dict\n",
        "featuresets=[\n",
        "    (document_features(doc),category)\n",
        "    for(doc,category)in documents\n",
        "]\n",
        "train_set,test_set=featuresets[:1600],featuresets[1600:]\n",
        "classifier=NaiveBayesClassifier.train(train_set)\n",
        "accuracy_score=accuracy(classifier,test_set)\n",
        "print(f\"Accuracy:{accuracy_score:.2%}\")\n",
        "new_texts=[\"Like it\",\"I didn't like the plot.\"]\n",
        "for text in new_texts:\n",
        "  prediction=classifier.classify(document_features(text.split()))\n",
        "  print(f\"Prediction for '{text}':{prediction}\")"
      ]
    }
  ]
}